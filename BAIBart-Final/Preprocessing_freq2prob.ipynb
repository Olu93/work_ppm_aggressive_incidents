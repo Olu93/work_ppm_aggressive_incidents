{
 "cells": [
  {
   "cell_type": "code",
   "execution_count": 1,
   "id": "f54192a2",
   "metadata": {},
   "outputs": [],
   "source": [
    "import pandas as pd\n",
    "import numpy as np\n",
    "import json as json\n",
    "import ast"
   ]
  },
  {
   "cell_type": "code",
   "execution_count": 2,
   "id": "4623736c",
   "metadata": {},
   "outputs": [],
   "source": [
    "actions = ['contact beeindigd/weggegaan',\n",
    "          'client toegesproken/gesprek met client',\n",
    "          'geen',\n",
    "          'client afgeleid',\n",
    "          'naar andere kamer/ruimte gestuurd',\n",
    "          'met kracht tegen- of vastgehouden',\n",
    "          'afzondering (deur op slot)']"
   ]
  },
  {
   "cell_type": "code",
   "execution_count": 3,
   "id": "e2493c69",
   "metadata": {},
   "outputs": [],
   "source": [
    "frequencies = pd.read_csv(\"frequencies_final_2.csv\", index_col=0)"
   ]
  },
  {
   "cell_type": "code",
   "execution_count": 4,
   "id": "adc55480",
   "metadata": {},
   "outputs": [
    {
     "data": {
      "text/html": [
       "<div>\n",
       "<style scoped>\n",
       "    .dataframe tbody tr th:only-of-type {\n",
       "        vertical-align: middle;\n",
       "    }\n",
       "\n",
       "    .dataframe tbody tr th {\n",
       "        vertical-align: top;\n",
       "    }\n",
       "\n",
       "    .dataframe thead th {\n",
       "        text-align: right;\n",
       "    }\n",
       "</style>\n",
       "<table border=\"1\" class=\"dataframe\">\n",
       "  <thead>\n",
       "    <tr style=\"text-align: right;\">\n",
       "      <th></th>\n",
       "      <th>va</th>\n",
       "      <th>sib</th>\n",
       "      <th>pp</th>\n",
       "      <th>po</th>\n",
       "    </tr>\n",
       "  </thead>\n",
       "  <tbody>\n",
       "    <tr>\n",
       "      <th>contact beeindigd/weggegaan</th>\n",
       "      <td>{'sib': 0.03230769230769231, 'pp': 0.290769230...</td>\n",
       "      <td>{'pp': 0.30434782608695654, 'sib': 0.260869565...</td>\n",
       "      <td>{'pp': 0.5822884012539185, 'Tau': 0.1778996865...</td>\n",
       "      <td>{'va': 0.23423423423423423, 'pp': 0.2972972972...</td>\n",
       "    </tr>\n",
       "    <tr>\n",
       "      <th>client toegesproken/gesprek met client</th>\n",
       "      <td>{'pp': 0.26627651792245793, 'Tau': 0.204828090...</td>\n",
       "      <td>{'Tau': 0.18734177215189873, 'pp': 0.253164556...</td>\n",
       "      <td>{'pp': 0.588624853915076, 'Tau': 0.18153486560...</td>\n",
       "      <td>{'sib': 0.048295454545454544, 'va': 0.14772727...</td>\n",
       "    </tr>\n",
       "    <tr>\n",
       "      <th>client afgeleid</th>\n",
       "      <td>{'pp': 0.31962025316455694, 'va': 0.4398734177...</td>\n",
       "      <td>{'pp': 0.2647058823529412, 'Tau': 0.2132352941...</td>\n",
       "      <td>{'Tau': 0.18808777429467086, 'pp': 0.615464994...</td>\n",
       "      <td>{'Tau': 0.20155038759689922, 'va': 0.085271317...</td>\n",
       "    </tr>\n",
       "    <tr>\n",
       "      <th>geen</th>\n",
       "      <td>{'va': 0.32142857142857145, 'Tau': 0.25, 'pp':...</td>\n",
       "      <td>{'va': 0.08099688473520249, 'sib': 0.560747663...</td>\n",
       "      <td>{'Tau': 0.1522633744855967, 'pp': 0.6049382716...</td>\n",
       "      <td>{'va': 0.2222222222222222, 'pp': 0.44444444444...</td>\n",
       "    </tr>\n",
       "    <tr>\n",
       "      <th>met kracht tegen- of vastgehouden</th>\n",
       "      <td>{'pp': 0.3826086956521739, 'va': 0.29565217391...</td>\n",
       "      <td>{'pp': 0.3202614379084967, 'Tau': 0.2091503267...</td>\n",
       "      <td>{'pp': 0.6390374331550802, 'Tau': 0.1671122994...</td>\n",
       "      <td>{'pp': 0.52, 'po': 0.24, 'va': 0.12, 'sib': 0....</td>\n",
       "    </tr>\n",
       "    <tr>\n",
       "      <th>naar andere kamer/ruimte gestuurd</th>\n",
       "      <td>{'va': 0.42857142857142855, 'sib': 0.036630036...</td>\n",
       "      <td>{'pp': 0.40625, 'va': 0.09375, 'Tau': 0.1875, ...</td>\n",
       "      <td>{'va': 0.15687992988606486, 'pp': 0.5880806310...</td>\n",
       "      <td>{'pp': 0.3218390804597701, 'va': 0.22988505747...</td>\n",
       "    </tr>\n",
       "    <tr>\n",
       "      <th>afzondering (deur op slot)</th>\n",
       "      <td>{'pp': 0.5783132530120482, 'sib': 0.0120481927...</td>\n",
       "      <td>{'pp': 0.2727272727272727, 'Tau': 0.2727272727...</td>\n",
       "      <td>{'Tau': 0.18313253012048192, 'va': 0.151807228...</td>\n",
       "      <td>{'pp': 0.5483870967741935, 'va': 0.16129032258...</td>\n",
       "    </tr>\n",
       "  </tbody>\n",
       "</table>\n",
       "</div>"
      ],
      "text/plain": [
       "                                                                                       va  \\\n",
       "contact beeindigd/weggegaan             {'sib': 0.03230769230769231, 'pp': 0.290769230...   \n",
       "client toegesproken/gesprek met client  {'pp': 0.26627651792245793, 'Tau': 0.204828090...   \n",
       "client afgeleid                         {'pp': 0.31962025316455694, 'va': 0.4398734177...   \n",
       "geen                                    {'va': 0.32142857142857145, 'Tau': 0.25, 'pp':...   \n",
       "met kracht tegen- of vastgehouden       {'pp': 0.3826086956521739, 'va': 0.29565217391...   \n",
       "naar andere kamer/ruimte gestuurd       {'va': 0.42857142857142855, 'sib': 0.036630036...   \n",
       "afzondering (deur op slot)              {'pp': 0.5783132530120482, 'sib': 0.0120481927...   \n",
       "\n",
       "                                                                                      sib  \\\n",
       "contact beeindigd/weggegaan             {'pp': 0.30434782608695654, 'sib': 0.260869565...   \n",
       "client toegesproken/gesprek met client  {'Tau': 0.18734177215189873, 'pp': 0.253164556...   \n",
       "client afgeleid                         {'pp': 0.2647058823529412, 'Tau': 0.2132352941...   \n",
       "geen                                    {'va': 0.08099688473520249, 'sib': 0.560747663...   \n",
       "met kracht tegen- of vastgehouden       {'pp': 0.3202614379084967, 'Tau': 0.2091503267...   \n",
       "naar andere kamer/ruimte gestuurd       {'pp': 0.40625, 'va': 0.09375, 'Tau': 0.1875, ...   \n",
       "afzondering (deur op slot)              {'pp': 0.2727272727272727, 'Tau': 0.2727272727...   \n",
       "\n",
       "                                                                                       pp  \\\n",
       "contact beeindigd/weggegaan             {'pp': 0.5822884012539185, 'Tau': 0.1778996865...   \n",
       "client toegesproken/gesprek met client  {'pp': 0.588624853915076, 'Tau': 0.18153486560...   \n",
       "client afgeleid                         {'Tau': 0.18808777429467086, 'pp': 0.615464994...   \n",
       "geen                                    {'Tau': 0.1522633744855967, 'pp': 0.6049382716...   \n",
       "met kracht tegen- of vastgehouden       {'pp': 0.6390374331550802, 'Tau': 0.1671122994...   \n",
       "naar andere kamer/ruimte gestuurd       {'va': 0.15687992988606486, 'pp': 0.5880806310...   \n",
       "afzondering (deur op slot)              {'Tau': 0.18313253012048192, 'va': 0.151807228...   \n",
       "\n",
       "                                                                                       po  \n",
       "contact beeindigd/weggegaan             {'va': 0.23423423423423423, 'pp': 0.2972972972...  \n",
       "client toegesproken/gesprek met client  {'sib': 0.048295454545454544, 'va': 0.14772727...  \n",
       "client afgeleid                         {'Tau': 0.20155038759689922, 'va': 0.085271317...  \n",
       "geen                                    {'va': 0.2222222222222222, 'pp': 0.44444444444...  \n",
       "met kracht tegen- of vastgehouden       {'pp': 0.52, 'po': 0.24, 'va': 0.12, 'sib': 0....  \n",
       "naar andere kamer/ruimte gestuurd       {'pp': 0.3218390804597701, 'va': 0.22988505747...  \n",
       "afzondering (deur op slot)              {'pp': 0.5483870967741935, 'va': 0.16129032258...  "
      ]
     },
     "execution_count": 4,
     "metadata": {},
     "output_type": "execute_result"
    }
   ],
   "source": [
    "frequencies"
   ]
  },
  {
   "cell_type": "code",
   "execution_count": 5,
   "id": "24686b5f",
   "metadata": {},
   "outputs": [
    {
     "data": {
      "text/plain": [
       "(7, 4)"
      ]
     },
     "execution_count": 5,
     "metadata": {},
     "output_type": "execute_result"
    }
   ],
   "source": [
    "frequencies.shape"
   ]
  },
  {
   "cell_type": "code",
   "execution_count": 6,
   "id": "b4f45b6c",
   "metadata": {},
   "outputs": [],
   "source": [
    "frequencies.style.to_latex('MDP2.tex')"
   ]
  },
  {
   "cell_type": "code",
   "execution_count": 6,
   "id": "afbd3e1e",
   "metadata": {},
   "outputs": [],
   "source": [
    "# Load the set with all actions and state transitions\n",
    "for label in frequencies:\n",
    "    for action in actions:\n",
    "        frequencies[label][action] = ast.literal_eval(frequencies[label][action])"
   ]
  },
  {
   "cell_type": "code",
   "execution_count": 18,
   "id": "d1ad11dc",
   "metadata": {},
   "outputs": [
    {
     "data": {
      "text/plain": [
       "{'sib': 0.024975984630163303,\n",
       " 'pp': 0.24015369836695485,\n",
       " 'va': 0.4015369836695485,\n",
       " 'Tau': 0.2968299711815562,\n",
       " 'po': 0.03650336215177714}"
      ]
     },
     "execution_count": 18,
     "metadata": {},
     "output_type": "execute_result"
    }
   ],
   "source": [
    "frequencies['va']['contact beeindigd/weggegaan']"
   ]
  },
  {
   "cell_type": "code",
   "execution_count": 19,
   "id": "ee556083",
   "metadata": {},
   "outputs": [
    {
     "data": {
      "text/plain": [
       "{'pp': 0.2270347453593527,\n",
       " 'va': 0.4079009995240362,\n",
       " 'Tau': 0.29604950023798193,\n",
       " 'sib': 0.0318895763921942,\n",
       " 'po': 0.03712517848643503}"
      ]
     },
     "execution_count": 19,
     "metadata": {},
     "output_type": "execute_result"
    }
   ],
   "source": [
    "frequencies['va']['client toegesproken/gesprek met client']"
   ]
  },
  {
   "cell_type": "code",
   "execution_count": 15,
   "id": "684c5bcb",
   "metadata": {},
   "outputs": [
    {
     "data": {
      "text/plain": [
       "{'va': 0.4058898847631242,\n",
       " 'Tau': 0.30089628681177977,\n",
       " 'sib': 0.030729833546734954,\n",
       " 'pp': 0.23047375160051217,\n",
       " 'po': 0.03201024327784891}"
      ]
     },
     "execution_count": 15,
     "metadata": {},
     "output_type": "execute_result"
    }
   ],
   "source": [
    "frequencies['va']['naar andere kamer/ruimte gestuurd']"
   ]
  },
  {
   "cell_type": "code",
   "execution_count": 16,
   "id": "7d496184",
   "metadata": {},
   "outputs": [
    {
     "data": {
      "text/plain": [
       "{'pp': 0.34415584415584416,\n",
       " 'va': 0.2532467532467532,\n",
       " 'po': 0.05194805194805195,\n",
       " 'Tau': 0.2922077922077922,\n",
       " 'sib': 0.05844155844155844}"
      ]
     },
     "execution_count": 16,
     "metadata": {},
     "output_type": "execute_result"
    }
   ],
   "source": [
    "frequencies['va']['met kracht tegen- of vastgehouden']"
   ]
  },
  {
   "cell_type": "code",
   "execution_count": 13,
   "id": "372510b4",
   "metadata": {},
   "outputs": [
    {
     "data": {
      "text/plain": [
       "{'pp': 0.25667351129363447,\n",
       " 'va': 0.39630390143737165,\n",
       " 'Tau': 0.2669404517453799,\n",
       " 'po': 0.04106776180698152,\n",
       " 'sib': 0.039014373716632446}"
      ]
     },
     "execution_count": 13,
     "metadata": {},
     "output_type": "execute_result"
    }
   ],
   "source": [
    "frequencies['va']['client afgeleid']"
   ]
  },
  {
   "cell_type": "code",
   "execution_count": 14,
   "id": "f473a24c",
   "metadata": {},
   "outputs": [
    {
     "data": {
      "text/plain": [
       "{'Tau': 0.36220472440944884,\n",
       " 'va': 0.29133858267716534,\n",
       " 'pp': 0.2125984251968504,\n",
       " 'sib': 0.08661417322834646,\n",
       " 'po': 0.047244094488188976}"
      ]
     },
     "execution_count": 14,
     "metadata": {},
     "output_type": "execute_result"
    }
   ],
   "source": [
    "frequencies['va']['geen']"
   ]
  },
  {
   "cell_type": "code",
   "execution_count": 17,
   "id": "755e289d",
   "metadata": {},
   "outputs": [
    {
     "data": {
      "text/plain": [
       "{'pp': 0.5544554455445545,\n",
       " 'sib': 0.009900990099009901,\n",
       " 'Tau': 0.2376237623762376,\n",
       " 'po': 0.07920792079207921,\n",
       " 'va': 0.1188118811881188}"
      ]
     },
     "execution_count": 17,
     "metadata": {},
     "output_type": "execute_result"
    }
   ],
   "source": [
    "frequencies['va']['afzondering (deur op slot)']"
   ]
  },
  {
   "cell_type": "code",
   "execution_count": 8,
   "id": "9baff1b7",
   "metadata": {},
   "outputs": [],
   "source": [
    "def get_next_state(state_action):\n",
    "    states = []\n",
    "    prob = []\n",
    "    for key, value in state_action.items():\n",
    "        states.append(key)\n",
    "        prob.append(value)\n",
    "    return np.random.choice(states, size=1, p=prob)[0]"
   ]
  },
  {
   "cell_type": "code",
   "execution_count": 9,
   "id": "9f68f43c",
   "metadata": {},
   "outputs": [
    {
     "data": {
      "text/plain": [
       "'va'"
      ]
     },
     "execution_count": 9,
     "metadata": {},
     "output_type": "execute_result"
    }
   ],
   "source": [
    "np.random.choice(['va','pp','po','sib'], size=1)[0]"
   ]
  },
  {
   "cell_type": "code",
   "execution_count": 11,
   "id": "2883a730",
   "metadata": {},
   "outputs": [
    {
     "name": "stdout",
     "output_type": "stream",
     "text": [
      "['sib', 'pp', 'po', 'po', 'va', 'va', 'sib', 'Tau', 'po', 'po']\n"
     ]
    }
   ],
   "source": [
    "test = []\n",
    "for i in range(10):\n",
    "    test.append(get_next_state(frequencies['po']['afzondering (deur op slot)']))\n",
    "    \n",
    "print(test)"
   ]
  },
  {
   "cell_type": "code",
   "execution_count": 12,
   "id": "71e8e6a6",
   "metadata": {},
   "outputs": [
    {
     "data": {
      "text/plain": [
       "array(['va'], dtype='<U3')"
      ]
     },
     "execution_count": 12,
     "metadata": {},
     "output_type": "execute_result"
    }
   ],
   "source": [
    "np.random.choice(['va','pp','po','sib'], size=1)"
   ]
  },
  {
   "cell_type": "code",
   "execution_count": null,
   "id": "f2539966",
   "metadata": {},
   "outputs": [],
   "source": []
  }
 ],
 "metadata": {
  "kernelspec": {
   "display_name": "Python 3 (ipykernel)",
   "language": "python",
   "name": "python3"
  },
  "language_info": {
   "codemirror_mode": {
    "name": "ipython",
    "version": 3
   },
   "file_extension": ".py",
   "mimetype": "text/x-python",
   "name": "python",
   "nbconvert_exporter": "python",
   "pygments_lexer": "ipython3",
   "version": "3.9.13"
  }
 },
 "nbformat": 4,
 "nbformat_minor": 5
}
